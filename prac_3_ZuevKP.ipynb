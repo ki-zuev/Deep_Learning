{
  "cells": [
    {
      "cell_type": "markdown",
      "metadata": {
        "id": "Sni6urH63ScW"
      },
      "source": [
        "Фиксируем seed для воспроизводимости результатов."
      ]
    },
    {
      "cell_type": "code",
      "execution_count": 1,
      "metadata": {
        "id": "f5cPU7AP3ScX"
      },
      "outputs": [],
      "source": [
        "import random\n",
        "import torch\n",
        "import numpy as np\n",
        "def set_random_seed(seed):\n",
        "    torch.manual_seed(seed)\n",
        "    torch.cuda.manual_seed(seed)\n",
        "    np.random.seed(seed)\n",
        "    random.seed(seed)\n",
        "\n",
        "set_random_seed(42)"
      ]
    },
    {
      "cell_type": "markdown",
      "metadata": {
        "id": "HJpFmhvz3ScZ"
      },
      "source": [
        "В качестве модели используйте LeNet."
      ]
    },
    {
      "cell_type": "code",
      "execution_count": 2,
      "metadata": {
        "id": "UoJBRYoC3Scc"
      },
      "outputs": [],
      "source": [
        "import torch\n",
        "import torch.nn as nn\n",
        "\n",
        "class LeNet(nn.Module):\n",
        "    def __init__(self):\n",
        "        super().__init__()\n",
        "        self.activation = nn.ReLU()\n",
        "        self.conv1 = nn.Conv2d(1, 6, 5, padding=2) # 28*28 -> padding=2 -> 32*32 -> kernel 5*5 -> 28*28, 6 feature maps\n",
        "        self.pool = nn.MaxPool2d(2)                # 28*28 -> 14*14, 6 feature maps\n",
        "        self.conv2 = nn.Conv2d(6, 16, 5)           # 14*14 -> kernel 5*5, no padding -> 10*10, 16 feature maps\n",
        "        self.pool = nn.MaxPool2d(2)                # 10*10 -> 5*5, 16 feature maps\n",
        "        self.fc1 = nn.Linear(16 * 5 * 5, 120)      # 120 neurons\n",
        "        self.fc2 = nn.Linear(120, 84)              # 84 neurons\n",
        "        self.fc3 = nn.Linear(84, 10)               # 10 outputs\n",
        "\n",
        "    def forward(self, x):\n",
        "      x = self.activation(self.pool(self.conv1(x)))\n",
        "      x = self.activation(self.pool(self.conv2(x)))\n",
        "      x = self.activation(self.fc1(x.flatten(start_dim=1)))\n",
        "      x = self.activation(self.fc2(x))\n",
        "      x = self.fc3(x)\n",
        "      return x"
      ]
    },
    {
      "cell_type": "code",
      "execution_count": 3,
      "metadata": {
        "id": "-Q-CNbbZ3Scw"
      },
      "outputs": [],
      "source": [
        "from IPython.display import clear_output\n",
        "from collections import defaultdict\n",
        "import matplotlib.pyplot as plt\n",
        "import numpy as np\n",
        "\n",
        "class ProgressPlotter:\n",
        "\n",
        "    \"\"\"\n",
        "        Groups contain a list of variables to output, like [\"loss\", \"accuracy\"]\n",
        "        If group is None all variables will be plotted\n",
        "\n",
        "        Title is expariment_id like \"Relu_Adam_lr003\"\n",
        "        All new collected data binded to current title\n",
        "    \"\"\"\n",
        "\n",
        "    def __init__(self, title=\"default\", groups=None) -> None:\n",
        "        self._history_dict = defaultdict(dict)\n",
        "        self.set_title(title)\n",
        "        self.groups = self.get_groups(groups)\n",
        "\n",
        "    def get_groups(self, groups):\n",
        "        if groups is not None:\n",
        "            return self._history_dict.keys()\n",
        "        if type(groups) is str:\n",
        "            groups = [groups]\n",
        "        return groups\n",
        "\n",
        "    def set_title(self, title):\n",
        "        for g in self._history_dict.keys():\n",
        "            self._history_dict[g][title] = [] #reset data\n",
        "        self.title = title\n",
        "\n",
        "    # group e.g. \"loss_val\" tag e.g. \"experiment_1\"\n",
        "    def add_scalar(self, group: str, value, tag=None) -> None:\n",
        "        tag = self.title if tag is None else tag\n",
        "\n",
        "        if not tag in self._history_dict[group]:\n",
        "           self._history_dict[group][tag] = []\n",
        "        self._history_dict[group][tag].append(value)\n",
        "\n",
        "    def add_row(self, group: str, value, tag=None) -> None:\n",
        "        tag = self.title if tag is None else tag\n",
        "        self._history_dict[group][tag] = value\n",
        "\n",
        "    def display_keys(self, ax, data):\n",
        "        history_len = 0\n",
        "        ax.grid()\n",
        "        for key in data:\n",
        "            ax.plot(data[key], label=key)\n",
        "            history_len = max(history_len,len(data[key]))\n",
        "            if len(data) > 1:\n",
        "               ax.legend(loc=\"upper right\")\n",
        "            if history_len < 50:\n",
        "                ax.set_xlabel('step')\n",
        "                ax.set_xticks(np.arange(history_len))\n",
        "                ax.set_xticklabels(np.arange(history_len))\n",
        "\n",
        "    def display(self, groups=None):\n",
        "        clear_output()\n",
        "        if groups is None:\n",
        "            groups = self.groups\n",
        "        n_groups = len(groups)\n",
        "        fig, ax = plt.subplots(1, n_groups, figsize=(48//n_groups, 3))\n",
        "        if n_groups == 1:\n",
        "            ax = [ax]\n",
        "        for i, g in enumerate(groups):\n",
        "            ax[i].set_ylabel(g)\n",
        "            self.display_keys(ax[i], self.history_dict[g])\n",
        "        fig.tight_layout()\n",
        "        plt.show()\n",
        "\n",
        "    @property\n",
        "    def history_dict(self):\n",
        "        return dict(self._history_dict)"
      ]
    },
    {
      "cell_type": "markdown",
      "metadata": {
        "id": "Dw0x9GgY3Scy"
      },
      "source": [
        "Пример работы кода для визуализации:"
      ]
    },
    {
      "cell_type": "code",
      "execution_count": 4,
      "metadata": {
        "id": "M6mG4AMk3Scz",
        "colab": {
          "base_uri": "https://localhost:8080/",
          "height": 189
        },
        "outputId": "c5c2ebb0-2e7b-4ffa-f6e7-f78b761d8b4a"
      },
      "outputs": [
        {
          "output_type": "display_data",
          "data": {
            "text/plain": [
              "<Figure size 2400x300 with 2 Axes>"
            ],
            "image/png": "[encoded data removed]"
          },
          "metadata": {}
        }
      ],
      "source": [
        "pp = ProgressPlotter(title='x+1')\n",
        "for i in range(1, 5):\n",
        "    pp.add_scalar('line', i + 1)\n",
        "    pp.add_scalar('square', (i+1)**2)\n",
        "pp.set_title('2x-1')\n",
        "for i in range(1, 5):\n",
        "    pp.add_scalar('line', 2*i - 1)\n",
        "    pp.add_scalar('square', (2*i-1)**2)\n",
        "pp.display(['line', 'square'])"
      ]
    },
    {
      "cell_type": "markdown",
      "metadata": {
        "id": "neUEwLoE3Sc2"
      },
      "source": [
        "Код для обучения модели:"
      ]
    },
    {
      "cell_type": "code",
      "execution_count": 5,
      "metadata": {
        "id": "1N8wuy5iu-SG",
        "colab": {
          "base_uri": "https://localhost:8080/"
        },
        "outputId": "8c7b100f-268e-46fe-eacf-12bb71c0ddc2"
      },
      "outputs": [
        {
          "output_type": "stream",
          "name": "stdout",
          "text": [
            "Using device: cuda\n"
          ]
        }
      ],
      "source": [
        "import torch\n",
        "from tqdm.notebook import tqdm\n",
        "\n",
        "device = torch.device('cuda' if torch.cuda.is_available() else 'cpu')\n",
        "print('Using device:', device)"
      ]
    },
    {
      "cell_type": "code",
      "execution_count": 6,
      "metadata": {
        "id": "CNC7GOHCvPNI"
      },
      "outputs": [],
      "source": [
        "def get_correct_count(pred,labels):\n",
        "  _, predicted = torch.max(pred.data, 1)\n",
        "  return (predicted.cpu() == labels.cpu()).sum().item()\n",
        "\n",
        "@torch.inference_mode() # this annotation disable grad computation\n",
        "def validate(model, test_loader, device):\n",
        "    correct, total  = 0, 0\n",
        "    for imgs, labels in test_loader:\n",
        "        pred = model(imgs.to(device))\n",
        "        total += labels.size(0)\n",
        "        correct += get_correct_count(pred, labels)\n",
        "    return correct / total"
      ]
    },
    {
      "cell_type": "markdown",
      "metadata": {
        "id": "tBUJMPGg1eJe"
      },
      "source": [
        "Ранее для обучения модели мы писали функцию `train`. Процесс обучения может быть также удобно реализовать с помощью класса, например, такого как `Trainer`. Можете далее использовать его и менять код по своему усмотрению.  "
      ]
    },
    {
      "cell_type": "code",
      "execution_count": 7,
      "metadata": {
        "id": "RAOIqXyp3Sc2"
      },
      "outputs": [],
      "source": [
        "class Trainer:\n",
        "  def __init__(self, model, plotter = None, lr = 0.03):\n",
        "    self.model = model\n",
        "    self.optimizer = torch.optim.SGD(self.model.parameters(), lr=lr)  # Weight update\n",
        "    self.criterion = nn.CrossEntropyLoss() # Loss function\n",
        "    self.plotter = ProgressPlotter() if plotter is None else plotter\n",
        "    self.loss_hist = []\n",
        "\n",
        "  def __call__(self, train_loader, val_loader, epochs=6):\n",
        "    global device\n",
        "    self.model.to(device)\n",
        "    self.model.train()\n",
        "    for  epoch in tqdm(range(epochs)):\n",
        "        self.loss_hist = []\n",
        "        correct, total = 0, 0\n",
        "        for imgs, labels in train_loader:\n",
        "            correct += self.process_batch(imgs, labels)\n",
        "            total += len(labels)\n",
        "        self.plotter.add_scalar(\"Loss/train\", np.mean(self.loss_hist))\n",
        "        self.plotter.add_scalar(\"Accuracy/val\", validate(self.model, val_loader, device=device))\n",
        "        self.plotter.add_scalar(\"Accuracy/train\", correct/total)\n",
        "        self.plotter.display([\"Loss/train\", \"Accuracy/val\"])\n",
        "\n",
        "  def process_batch(self, imgs, labels):\n",
        "    self.optimizer.zero_grad()\n",
        "    out = self.model(imgs.to(device))\n",
        "    loss = self.criterion(out, labels.to(device))\n",
        "    loss.backward()\n",
        "    self.loss_hist.append(loss.item())\n",
        "    self.optimizer.step()\n",
        "    return get_correct_count(out.cpu(), labels)\n"
      ]
    },
    {
      "cell_type": "markdown",
      "metadata": {
        "id": "ctEoUdkK3Sc0"
      },
      "source": [
        "Совет: в данном задании используйте lr = 0.03."
      ]
    },
    {
      "cell_type": "markdown",
      "source": [
        "Download MNIST DATASET"
      ],
      "metadata": {
        "id": "0a1CXOXlt-sK"
      }
    },
    {
      "cell_type": "code",
      "source": [
        "from torchvision import  transforms, datasets\n",
        "from torch.utils.data import DataLoader, random_split\n",
        "\n",
        "transform = transforms.Compose(\n",
        "    [transforms.ToTensor(),\n",
        "     transforms.Normalize( (0.1307), (0.3081))\n",
        "     ])\n",
        "\n",
        "mnist = datasets.MNIST('MNIST', train=True, download=True, transform=transform)\n",
        "mnist_test = datasets.MNIST('MNIST', train=False, download=True, transform=transform)\n",
        "\n",
        "train_set, val_set , _ = random_split(mnist, [16000, 4000, 40000])\n",
        "\n",
        "train_loader = DataLoader(train_set, batch_size=256, shuffle=True, num_workers=2)\n",
        "val_loader = DataLoader(val_set, batch_size=256, shuffle=False, num_workers=2)\n",
        "test_loader = DataLoader(mnist_test, batch_size=256, shuffle=False, num_workers=2, drop_last=True)"
      ],
      "metadata": {
        "id": "ZHK3j6Uft6yI"
      },
      "execution_count": 8,
      "outputs": []
    },
    {
      "cell_type": "markdown",
      "metadata": {
        "id": "tG4HGS113SdD"
      },
      "source": [
        "# Задание 1. Сравнение оптимизаторов\n",
        "\n",
        "В этом задании вам нужно будет обучить модель из прошлого задания тремя способами:\n",
        "- оптимизатором с моментом,\n",
        "- адаптивным оптимизатором,\n",
        "- простым SGD (без momentum и прочих дополнительных параметров) и циклическим learning rate (нужно будет подобрать диапазон скоростей обучения).\n",
        "\n",
        "\n",
        "Постройте графики Loss и accuracy. Сравните качество и скорость обучения."
      ]
    },
    {
      "cell_type": "markdown",
      "metadata": {
        "id": "hMPfMXpf3SdE"
      },
      "source": [
        "## Оптимизатор с моментом"
      ]
    },
    {
      "cell_type": "markdown",
      "metadata": {
        "id": "7Ni7AsaQTuxy"
      },
      "source": [
        "Для передачи в Trainer оптимизатора, отличного от дефолтного SGD, нужно изменить свойство `trainer.optimizer`"
      ]
    },
    {
      "cell_type": "code",
      "execution_count": 9,
      "metadata": {
        "id": "JJ9g1cpV3SdE",
        "colab": {
          "base_uri": "https://localhost:8080/",
          "height": 189,
          "referenced_widgets": [
            "3656dec1d66c4f62a00eee2cb564106e",
            "b0971f5c66004f0286773e85be165fe9",
            "139585539e19413c9303ac2e2c0cebdf",
            "4cf07f7c1add454a9754408b3e03194c",
            "c43c299a16f94b9d87304593f3badd56",
            "fe2357e101044d6784649b1f585ac733",
            "b6b42f1fc6df43aca3cf1d024d32fbe3",
            "c9554babf9854569a4e760bdd2f5b395",
            "34b06343c9ef4263a8edf4075f3cd7b6",
            "edc0b2876ca04d518bd3bf7caeea5a66",
            "376ee80b2a8d4da6be8c37eca1d9a4ba"
          ]
        },
        "outputId": "cb7734bc-a2f0-41e7-8249-8afc07814241"
      },
      "outputs": [
        {
          "output_type": "display_data",
          "data": {
            "text/plain": [
              "<Figure size 2400x300 with 2 Axes>"
            ],
            "image/png": "[encoded data removed]"
          },
          "metadata": {}
        }
      ],
      "source": [
        "pp = ProgressPlotter(\"SGD_momentum\")\n",
        "model = LeNet()\n",
        "trainer = Trainer(model, plotter=pp)\n",
        "trainer.optimizer = torch.optim.SGD(trainer.model.parameters(), momentum=0.5, lr=0.03)\n",
        "trainer(train_loader,val_loader)"
      ]
    },
    {
      "cell_type": "markdown",
      "metadata": {
        "id": "NzznB95W3SdD"
      },
      "source": [
        "Посчитайте итоговое значение accuracy на val_data с помощью функции validate.  "
      ]
    },
    {
      "cell_type": "code",
      "execution_count": 10,
      "metadata": {
        "id": "cdvtGPCn7ZZW",
        "colab": {
          "base_uri": "https://localhost:8080/"
        },
        "outputId": "fee1a342-47ed-4bee-c7b1-96febcabc789"
      },
      "outputs": [
        {
          "output_type": "stream",
          "name": "stdout",
          "text": [
            "Test accuracy: 0.9527\n"
          ]
        }
      ],
      "source": [
        "test_val = validate(trainer.model.eval(), val_loader, device)\n",
        "print(f'Test accuracy: {test_val:.4f}')"
      ]
    },
    {
      "cell_type": "markdown",
      "metadata": {
        "id": "VwrIvQ4c3SdF"
      },
      "source": [
        "## Адаптивный оптимизатор"
      ]
    },
    {
      "cell_type": "code",
      "execution_count": 11,
      "metadata": {
        "id": "38n4MwXj3SdG",
        "colab": {
          "base_uri": "https://localhost:8080/",
          "height": 189,
          "referenced_widgets": [
            "db1cecdc805a4f7ca4b812cc0468a258",
            "2443c272c8e14c029db1c44d24e0d574",
            "637a4fe5c3e5498ea923e4bd4adde5c5",
            "7f342848c2d74d75bd7a76bde7ea87b4",
            "0f30a021efa14dfcb798b2acbd92a092",
            "b27d002f24994dbfbe4099f52636e209",
            "76716c2853224dff95abf5821de2a5d6",
            "9eb495eee1b8485abe8e23f2469353a5",
            "bc239005ecc94bf58313e114d6b184da",
            "80ed64a08d7142169d31375890525d06",
            "73552ab2c2ed4350b35e24e617bc2ae0"
          ]
        },
        "outputId": "1c458cf5-acbc-45c4-cfcb-c99189bde246"
      },
      "outputs": [
        {
          "output_type": "display_data",
          "data": {
            "text/plain": [
              "<Figure size 2400x300 with 2 Axes>"
            ],
            "image/png": "[encoded data removed]"
          },
          "metadata": {}
        }
      ],
      "source": [
        "pp.set_title(\"Adam\")\n",
        "model = LeNet()\n",
        "trainer = Trainer(model, plotter=pp)\n",
        "trainer.optimizer = torch.optim.Adam(trainer.model.parameters(), lr=0.03)\n",
        "trainer(train_loader,val_loader)"
      ]
    },
    {
      "cell_type": "markdown",
      "metadata": {
        "id": "reVZi-Gc86aR"
      },
      "source": [
        "Посчитайте итоговое значение accuracy на val_data с помощью функции validate.  "
      ]
    },
    {
      "cell_type": "code",
      "execution_count": 12,
      "metadata": {
        "id": "xUcZxDZc82Eg",
        "colab": {
          "base_uri": "https://localhost:8080/"
        },
        "outputId": "02c59ca0-1d24-4ceb-db43-adddd00744b0"
      },
      "outputs": [
        {
          "output_type": "stream",
          "name": "stdout",
          "text": [
            "Test accuracy: 0.9540\n"
          ]
        }
      ],
      "source": [
        "test_val = validate(trainer.model.eval(), val_loader, device)\n",
        "print(f'Test accuracy: {test_val:.4f}')"
      ]
    },
    {
      "cell_type": "markdown",
      "metadata": {
        "id": "XCHa9Bq_3SdI"
      },
      "source": [
        "## Циклический learning rate\n",
        "Попробуйте обучить ту же архитектуру при помощи комбинации SGD (без momentum и прочих дополнительных параметров) и циклического learning rate."
      ]
    },
    {
      "cell_type": "markdown",
      "metadata": {
        "id": "V3r7UqJu3SdJ"
      },
      "source": [
        "Для подбора learning rate для циклического lr используйте код из лекции или пример из kaggle. Рекомендуем подбирать значения в диапазоне $[10^{-3}, 1]$) и использовать параметры `step_size_up=40, step_size_down=40`.\n",
        "\n"
      ]
    },
    {
      "cell_type": "code",
      "execution_count": 13,
      "metadata": {
        "id": "r-9fcjoaCA0-"
      },
      "outputs": [],
      "source": [
        "min_lr = 0.001\n",
        "max_lr = 0.5"
      ]
    },
    {
      "cell_type": "markdown",
      "metadata": {
        "id": "QqQ2wnfxAGYT"
      },
      "source": [
        "Когда мы создавали Trainer, не подумали о том что понадобится использоваль LR_Scheduler, придется его добавить. Для этого наследуемся от класса Trainer."
      ]
    },
    {
      "cell_type": "code",
      "execution_count": 14,
      "metadata": {
        "id": "z6I1_FiX9WNR"
      },
      "outputs": [],
      "source": [
        "class LRSchedulerTrainer(Trainer):\n",
        "  def __init__(self, model, plotter, base_lr, max_lr):\n",
        "    super().__init__(model, plotter,  lr=base_lr)\n",
        "    # because we want speed up demo, step_size values decreased\n",
        "    self.scheduler =  torch.optim.lr_scheduler.CyclicLR(\n",
        "        self.optimizer, base_lr, max_lr,  mode=\"triangular\", step_size_up=40,\n",
        "        step_size_down=40\n",
        "    )\n",
        "\n",
        "\n",
        "  def process_batch(self, imgs, labels):\n",
        "    total = super().process_batch(imgs, labels)\n",
        "    self.scheduler.step()\n",
        "    pp.add_scalar(\"LR\", self.scheduler.get_last_lr())\n",
        "    return total"
      ]
    },
    {
      "cell_type": "markdown",
      "metadata": {
        "id": "a99Ga7KlUhHz"
      },
      "source": [
        "Обучите модель с циклическим Learning rate"
      ]
    },
    {
      "cell_type": "code",
      "execution_count": 17,
      "metadata": {
        "id": "wO4Ks-2EAdgi",
        "colab": {
          "base_uri": "https://localhost:8080/",
          "height": 189,
          "referenced_widgets": [
            "e371646c8f814cfe9a4748949962b496",
            "ba571874f3f44770994f0ac870b20c1e",
            "5a58bb3b2f93463db8ba4e1d355f3007",
            "a1c65aedeec24be780b5992f45d0340e",
            "cca9b184d2ca418b855551bf1471ff9c",
            "4beaaede8a224570a955892afd56d3e2",
            "39b59e2f5e3e42d8a8490758a65b5cc5",
            "2329d0ad7f444a49b30d1dc16d10dbc5",
            "cd255aade08f4c39960b55fd2c50ea7a",
            "2e6c8f073f0845d5acf8f2a54b9a81b0",
            "0906db68038a436f852603afcc8a4b0b"
          ]
        },
        "outputId": "01019149-87b4-44fe-bcbf-ec43c48f5834"
      },
      "outputs": [
        {
          "output_type": "display_data",
          "data": {
            "text/plain": [
              "<Figure size 2400x300 with 2 Axes>"
            ],
            "image/png": "[encoded data removed]"
          },
          "metadata": {}
        }
      ],
      "source": [
        "pp.set_title(\"CycleLR+SGD\")\n",
        "model = LeNet()\n",
        "trainer = LRSchedulerTrainer(model, pp, min_lr, max_lr)\n",
        "trainer.optimizer = torch.optim.SGD(trainer.model.parameters(), lr=0.03)\n",
        "trainer(train_loader, val_loader)"
      ]
    },
    {
      "cell_type": "markdown",
      "metadata": {
        "id": "OWUJrFwkUt24"
      },
      "source": [
        "Посчитайте итоговое значение accuracy на val_data с помощью функции validate.  "
      ]
    },
    {
      "cell_type": "code",
      "execution_count": 18,
      "metadata": {
        "id": "UqN2mcPFAdl9",
        "colab": {
          "base_uri": "https://localhost:8080/"
        },
        "outputId": "13067990-2000-4a30-af4c-60be48bf2bdf"
      },
      "outputs": [
        {
          "output_type": "stream",
          "name": "stdout",
          "text": [
            "Test accuracy: 0.9247\n"
          ]
        }
      ],
      "source": [
        "test_val = validate(trainer.model.eval(), val_loader, device)\n",
        "print(f'Test accuracy: {test_val:.4f}')"
      ]
    },
    {
      "cell_type": "markdown",
      "metadata": {
        "id": "Mu1pPdQ43SdK"
      },
      "source": [
        "**Напишите Вывод**:\n"
      ]
    },
    {
      "cell_type": "markdown",
      "source": [
        "Точность везде примерно ожинаковая, но в последнем случае модель обучается медленнее"
      ],
      "metadata": {
        "id": "_5K0Ufqq5srd"
      }
    },
    {
      "cell_type": "markdown",
      "metadata": {
        "id": "jlVN6Tuo3SdK"
      },
      "source": [
        "## Формат результата\n",
        "\n",
        "* Графики loss-функции, пример графика:\n",
        "\n",
        "<img src =\"https://edunet.kea.su/repo/EduNet-web_dependencies/Exercises/EX07/result_1_task_3_ex07_v1.png\" width=\"1200\" >\n",
        "\n",
        "\n",
        "* вывод"
      ]
    },
    {
      "cell_type": "markdown",
      "metadata": {
        "id": "nN7bLsOj3SdL"
      },
      "source": [
        "# Задание 2. Dropout\n",
        "\n",
        "Добавьте в вашу нейросеть Dropout на последних слоях.\n",
        "\n",
        "Обучите ее на наборе данных MNIST. После этого, сделайте предсказание на тестовом датасете НЕ ДЕЛАЯ model.eval. Повторите процедуру предсказания 20 раз.\n",
        "Выведите 10 изображений, в классификации которых нейросеть больше всего не уверена (на 20 запусков предсказывала им самые различные классы) и 10 изображений, в классификации которых нейросеть больше всего уверена.\n",
        "\n"
      ]
    },
    {
      "cell_type": "code",
      "execution_count": 19,
      "metadata": {
        "id": "TEsc9dWR3SdL"
      },
      "outputs": [],
      "source": [
        "import torch\n",
        "import torch.nn as nn\n",
        "\n",
        "class LeNet_D(nn.Module):\n",
        "    def __init__(self):\n",
        "        super().__init__()\n",
        "        self.activation = nn.ReLU()\n",
        "        self.conv1 = nn.Conv2d(1, 6, 5, padding=2) # 28*28 -> padding=2 -> 32*32 -> kernel 5*5 -> 28*28, 6 feature maps\n",
        "        self.pool = nn.MaxPool2d(2)                # 28*28 -> 14*14, 6 feature maps\n",
        "        self.conv2 = nn.Conv2d(6, 16, 5)           # 14*14 -> kernel 5*5, no padding -> 10*10, 16 feature maps\n",
        "        self.pool = nn.MaxPool2d(2)                # 10*10 -> 5*5, 16 feature maps\n",
        "        self.fc1 = nn.Linear(16 * 5 * 5, 120)      # 120 neurons\n",
        "        self.fc2 = nn.Linear(120, 84)              # 84 neurons\n",
        "        self.fc3 = nn.Linear(84, 10)               # 10 outputs\n",
        "        self.dropout = nn.Dropout(p=0.1)\n",
        "\n",
        "    def forward(self, x):\n",
        "      x = self.activation(self.pool(self.conv1(x)))\n",
        "      x = self.activation(self.pool(self.conv2(x)))\n",
        "      x = self.activation(self.fc1(x.flatten(start_dim=1)))\n",
        "      x = self.activation(self.fc2(self.dropout(x)))\n",
        "      x = self.fc3(x)\n",
        "      return x"
      ]
    },
    {
      "cell_type": "code",
      "source": [
        "pp = ProgressPlotter(\"Dropout\")\n",
        "model = LeNet_D()\n",
        "trainer = Trainer(model, plotter=pp)\n",
        "trainer.optimizer = torch.optim.SGD(trainer.model.parameters(), momentum=0.5, lr=0.05)\n",
        "trainer(train_loader, val_loader)"
      ],
      "metadata": {
        "colab": {
          "base_uri": "https://localhost:8080/",
          "height": 189,
          "referenced_widgets": [
            "325a3bbefa384815b990539b2feaa6b9",
            "3f8ed6c3e9244c2abdf82aad70b6d8e4",
            "3b42e2ab2f6744abbba1caa4f31a27c2",
            "05c6d5dc23d04009b30807de960d3824",
            "150d085a0faa4375b265efdec3bde080",
            "24e3f72fc5064c11a021352cf67d9ecd",
            "8af974df124e47b79ea51883c03750c8",
            "68ce2acefab846f18f2217befc385bf2",
            "547227f46613414eae0cfef34b4cd2d2",
            "6a76e891f3374e56b9b4104f90fcf6af",
            "f1f1f48e8d434632a20b5973eecf7488"
          ]
        },
        "id": "qq0J27zu7IPE",
        "outputId": "a6291a93-3481-4e4c-fa6d-870f990d1f99"
      },
      "execution_count": 20,
      "outputs": [
        {
          "output_type": "display_data",
          "data": {
            "text/plain": [
              "<Figure size 2400x300 with 2 Axes>"
            ],
            "image/png": "[encoded data removed]"
          },
          "metadata": {}
        }
      ]
    },
    {
      "cell_type": "code",
      "source": [
        "test_val = validate(trainer.model.eval(), val_loader, device)\n",
        "print(f'Test accuracy: {test_val:.4f}')"
      ],
      "metadata": {
        "colab": {
          "base_uri": "https://localhost:8080/"
        },
        "id": "SQDbc8aJ7hla",
        "outputId": "6ee13ec4-753e-4f55-9c85-3bc4c72c10ba"
      },
      "execution_count": 21,
      "outputs": [
        {
          "output_type": "stream",
          "name": "stdout",
          "text": [
            "Test accuracy: 0.9738\n"
          ]
        }
      ]
    },
    {
      "cell_type": "code",
      "source": [
        "ans = []\n",
        "for i in range(20):\n",
        "  preds = []\n",
        "  for imgs, labels in (test_loader):\n",
        "    pred = model(imgs.to(device))\n",
        "    for j in pred.cpu().detach().numpy():\n",
        "      preds.append(j)\n",
        "  ans.append(preds)"
      ],
      "metadata": {
        "id": "VxAqeyva72Vu"
      },
      "execution_count": 22,
      "outputs": []
    },
    {
      "cell_type": "code",
      "source": [
        "ans = np.array(ans)\n",
        "print(ans.shape)\n",
        "ans = ans.swapaxes(0,1)\n",
        "print(ans.shape)"
      ],
      "metadata": {
        "colab": {
          "base_uri": "https://localhost:8080/"
        },
        "id": "fDo2m2TGLP6f",
        "outputId": "c509d687-99b3-4abb-fc40-11915a2ba838"
      },
      "execution_count": 23,
      "outputs": [
        {
          "output_type": "stream",
          "name": "stdout",
          "text": [
            "(20, 9984, 10)\n",
            "(9984, 20, 10)\n"
          ]
        }
      ]
    },
    {
      "cell_type": "code",
      "source": [
        "max_conf = np.max(ans, axis=2)\n",
        "mean_conf = np.mean(max_conf, axis=1)\n",
        "min_ind = np.argsort(mean_conf)[:10]\n",
        "max_ind = np.argsort(mean_conf)[-10:]"
      ],
      "metadata": {
        "id": "KLjfoMhrL7X2"
      },
      "execution_count": 24,
      "outputs": []
    },
    {
      "cell_type": "code",
      "source": [
        "def plot_images(indices, title):\n",
        "    plt.figure(figsize=(10, 5))\n",
        "    for i, index in enumerate(indices):\n",
        "        plt.subplot(2, 5, i + 1)\n",
        "        plt.imshow(mnist_test.data[index].numpy())\n",
        "        plt.axis('off')\n",
        "    plt.suptitle(title)\n",
        "    plt.show()\n",
        "\n",
        "plot_images(min_ind, 'Most Uncertain Predictions')\n",
        "plot_images(max_ind, 'Most Certain Predictions')"
      ],
      "metadata": {
        "colab": {
          "base_uri": "https://localhost:8080/",
          "height": 885
        },
        "id": "bT8sJjMFQuf5",
        "outputId": "f4cf43e6-a68f-4fcc-ba11-f453276a0724"
      },
      "execution_count": 25,
      "outputs": [
        {
          "output_type": "display_data",
          "data": {
            "text/plain": [
              "<Figure size 1000x500 with 10 Axes>"
            ],
            "image/png": "[encoded data removed]"
          },
          "metadata": {}
        },
        {
          "output_type": "display_data",
          "data": {
            "text/plain": [
              "<Figure size 1000x500 with 10 Axes>"
            ],
            "image/png": "[encoded data removed]"
          },
          "metadata": {}
        }
      ]
    },
    {
      "cell_type": "markdown",
      "metadata": {
        "id": "JKgW2ltO3SdL"
      },
      "source": [
        "## Формат результата\n",
        "\n",
        "* Изображения\n",
        "\n",
        "Изображения в которых модель уверена больше всего:\n",
        "\n",
        "<img src =\"https://edunet.kea.su/repo/EduNet-web_dependencies/Exercises/EX07/result_1_task_4_ex07_v1.png\" width=\"1200\" >\n",
        "\n",
        "\n",
        "Изображения в которых модель не уверена больше всего:\n",
        "\n",
        "<img src =\"https://edunet.kea.su/repo/EduNet-web_dependencies/Exercises/EX07/result_2_task_4_ex07_v1.png\" width=\"1200\" >\n",
        "\n",
        "*Необязательно у вас должны получиться эти же самые картинки."
      ]
    },
    {
      "cell_type": "markdown",
      "metadata": {
        "id": "2TEZwqwi3SdM"
      },
      "source": [
        "# Задание 3. Глубокая сеть\n",
        "\n",
        "Опишите сверточную архитектуру для классификации CIFAR10. Доведите в ней число общее число слоев минимум до 9. Используйте правильную инициализацию весов, [BatchNorm](https://pytorch.org/docs/stable/generated/torch.nn.BatchNorm2d.html?highlight=batchnorm#torch.nn.BatchNorm2d) между слоями и другие техники улучшения сходимости обсуждавшиеся в лекции.\n",
        "\n",
        "* Обучитете модель на датасете CIFAR10.\n",
        "* **Отладку рекомендуем проводить на фрагменте датасета**.\n",
        "* Оцените точность классификации на **тестовых данных**.\n",
        "* Сравните точность с результатами полученными на прошлом занятии.\n",
        "\n",
        "\n"
      ]
    },
    {
      "cell_type": "markdown",
      "metadata": {
        "id": "4-DNEwMk3SdM"
      },
      "source": [
        "Загрузим CIFAR10"
      ]
    },
    {
      "cell_type": "code",
      "execution_count": 26,
      "metadata": {
        "id": "-nume3fA3SdN",
        "colab": {
          "base_uri": "https://localhost:8080/"
        },
        "outputId": "4e658e45-94ed-4f6c-b37b-5eedfd2bb295"
      },
      "outputs": [
        {
          "output_type": "stream",
          "name": "stdout",
          "text": [
            "Downloading https://www.cs.toronto.edu/~kriz/cifar-10-python.tar.gz to CIFAR10/cifar-10-python.tar.gz\n"
          ]
        },
        {
          "output_type": "stream",
          "name": "stderr",
          "text": [
            "100%|██████████| 170498071/170498071 [00:19<00:00, 8576615.42it/s] \n"
          ]
        },
        {
          "output_type": "stream",
          "name": "stdout",
          "text": [
            "Extracting CIFAR10/cifar-10-python.tar.gz to CIFAR10\n",
            "Files already downloaded and verified\n"
          ]
        }
      ],
      "source": [
        "import torchvision\n",
        "from torch.utils.data import DataLoader\n",
        "from torchvision.datasets import CIFAR10\n",
        "\n",
        "transform = torchvision.transforms.Compose([torchvision.transforms.ToTensor(),\n",
        "                                            torchvision.transforms.Normalize(\n",
        "                                                [0.4914, 0.4822, 0.4465],\n",
        "                                                [0.2470, 0.2434, 0.2615])])\n",
        "\n",
        "cifar = CIFAR10(root='CIFAR10', train=True, download=True, transform=transform)\n",
        "cifat_test = CIFAR10(root='CIFAR10', train=False, download=True, transform=transform)\n",
        "\n",
        "train_set_cifar, val_set_cifar, = torch.utils.data.random_split(cifar, [45000, 5000])\n",
        "\n",
        "batch_size = 256\n",
        "\n",
        "train_loader_cifar = DataLoader(train_set_cifar, batch_size=batch_size, shuffle=True, num_workers=2)\n",
        "val_loader_cifar = DataLoader(val_set_cifar, batch_size=batch_size, shuffle=False, num_workers=2)\n",
        "test_loader_cifar = DataLoader(cifat_test, batch_size=batch_size, shuffle=False, num_workers=2)"
      ]
    },
    {
      "cell_type": "code",
      "execution_count": 27,
      "metadata": {
        "id": "SB9Q_7wO3SdN"
      },
      "outputs": [],
      "source": [
        "class CifarNN(nn.Module):\n",
        "    def __init__(self):\n",
        "        super().__init__()\n",
        "        layers = []\n",
        "        in_channels = 3\n",
        "        size = 32\n",
        "\n",
        "        for i in range(6):\n",
        "            layers.append(nn.Conv2d(in_channels, 2*in_channels, kernel_size=3, padding=1))\n",
        "            in_channels = 2*in_channels\n",
        "            layers.append(nn.BatchNorm2d(in_channels))\n",
        "            layers.append(nn.ReLU())\n",
        "\n",
        "        layers.append(nn.MaxPool2d(kernel_size=2, stride=2))\n",
        "        size //= 2\n",
        "        layers.append(nn.Dropout(p=0.1))\n",
        "        layers.append(nn.Flatten())\n",
        "        layers.append(nn.Linear(in_channels * size * size, 128))\n",
        "        layers.append(nn.BatchNorm1d(128))\n",
        "        layers.append(nn.ReLU())\n",
        "        layers.append(nn.Linear(128, 10))\n",
        "        self.model = nn.Sequential(*layers)\n",
        "\n",
        "    def forward(self, x):\n",
        "        return self.model(x)"
      ]
    },
    {
      "cell_type": "code",
      "source": [
        "pp = ProgressPlotter(title='Cifar')\n",
        "model = CifarNN()\n",
        "trainer = Trainer(model, plotter=pp)\n",
        "trainer.optimizer = torch.optim.Adam(trainer.model.parameters(), lr=0.001)\n",
        "trainer(train_loader_cifar, val_loader_cifar, epochs=15)"
      ],
      "metadata": {
        "colab": {
          "base_uri": "https://localhost:8080/",
          "height": 189,
          "referenced_widgets": [
            "1ffd89154d61428886382deb2b1b2cc4",
            "56fda1e20b214cc180c9b41a5a4d0304",
            "fd184bb5e8e746e7a48a03dc001ddfad",
            "37341bf732a74856b0ccb224b0c7f7f2",
            "14f8632d493543efb7be1e42db2ec24e",
            "96a9689b404a45288e4bf87ef2b94cd0",
            "98f1339e0ea742088eec12bf34e950c7",
            "9fe87473676043e0a7b5c5b604bf18d6",
            "1f57223a8ad14d138ed107c22937ba25",
            "34dfa6bbfec74a9cb8c52f6236e87d09",
            "bce6927bba4b4e8a84436e716bd44027"
          ]
        },
        "id": "L3XzuOscZvO-",
        "outputId": "1c86940a-8da3-48c5-8190-dba17cc75683"
      },
      "execution_count": 28,
      "outputs": [
        {
          "output_type": "display_data",
          "data": {
            "text/plain": [
              "<Figure size 2400x300 with 2 Axes>"
            ],
            "image/png": "[encoded data removed]"
          },
          "metadata": {}
        }
      ]
    },
    {
      "cell_type": "code",
      "source": [
        "test_acc = validate(trainer.model.eval(), test_loader_cifar, device)\n",
        "print(f'Test accuracy: {test_acc:.4f}')"
      ],
      "metadata": {
        "id": "3BEQTY8OaOGE",
        "colab": {
          "base_uri": "https://localhost:8080/"
        },
        "outputId": "fe9c0ca0-ac75-4ea7-cbb4-ab77ac1f798f"
      },
      "execution_count": 29,
      "outputs": [
        {
          "output_type": "stream",
          "name": "stdout",
          "text": [
            "Test accuracy: 0.7386\n"
          ]
        }
      ]
    },
    {
      "cell_type": "markdown",
      "source": [
        "На треировочных loss падает, accuracy начал выходить на плато - больше обучать не надо, так как начнется переобучение"
      ],
      "metadata": {
        "id": "Q1PeO4vxiQ6c"
      }
    },
    {
      "cell_type": "markdown",
      "metadata": {
        "id": "UwEH2kQn3SdO"
      },
      "source": [
        "## Формат результата\n",
        "\n",
        "* Графики loss и accuracy при обучении\n",
        "\n",
        "\n",
        "<img src =\"https://edunet.kea.su/repo/EduNet-web_dependencies/Exercises/EX07/result_1_task_5_ex07_v1.png\" width=\"1200\" >\n",
        "\n",
        "* Знaчение accuracy на тесте должно составить не менее 0.7\n",
        "\n",
        "\n"
      ]
    }
  ],
  "metadata": {
    "colab": {
      "provenance": [],
      "gpuType": "T4"
    },
    "kernelspec": {
      "display_name": "Python 3",
      "name": "python3"
    },
    "language_info": {
      "codemirror_mode": {
        "name": "ipython",
        "version": 3
      },
      "file_extension": ".py",
      "mimetype": "text/x-python",
      "name": "python",
      "nbconvert_exporter": "python",
      "pygments_lexer": "ipython3",
      "version": "3.10.9"
    },
    "accelerator": "GPU",
    "widgets": {
      "application/vnd.jupyter.widget-state+json": {
        "3656dec1d66c4f62a00eee2cb564106e": {
          "model_module": "@jupyter-widgets/controls",
          "model_name": "HBoxModel",
          "model_module_version": "1.5.0",
          "state": {
            "_dom_classes": [],
            "_model_module": "@jupyter-widgets/controls",
            "_model_module_version": "1.5.0",
            "_model_name": "HBoxModel",
            "_view_count": null,
            "_view_module": "@jupyter-widgets/controls",
            "_view_module_version": "1.5.0",
            "_view_name": "HBoxView",
            "box_style": "",
            "children": [
              "IPY_MODEL_b0971f5c66004f0286773e85be165fe9",
              "IPY_MODEL_139585539e19413c9303ac2e2c0cebdf",
              "IPY_MODEL_4cf07f7c1add454a9754408b3e03194c"
            ],
            "layout": "IPY_MODEL_c43c299a16f94b9d87304593f3badd56"
          }
        },
        "b0971f5c66004f0286773e85be165fe9": {
          "model_module": "@jupyter-widgets/controls",
          "model_name": "HTMLModel",
          "model_module_version": "1.5.0",
          "state": {
            "_dom_classes": [],
            "_model_module": "@jupyter-widgets/controls",
            "_model_module_version": "1.5.0",
            "_model_name": "HTMLModel",
            "_view_count": null,
            "_view_module": "@jupyter-widgets/controls",
            "_view_module_version": "1.5.0",
            "_view_name": "HTMLView",
            "description": "",
            "description_tooltip": null,
            "layout": "IPY_MODEL_fe2357e101044d6784649b1f585ac733",
            "placeholder": "​",
            "style": "IPY_MODEL_b6b42f1fc6df43aca3cf1d024d32fbe3",
            "value": "100%"
          }
        },
        "139585539e19413c9303ac2e2c0cebdf": {
          "model_module": "@jupyter-widgets/controls",
          "model_name": "FloatProgressModel",
          "model_module_version": "1.5.0",
          "state": {
            "_dom_classes": [],
            "_model_module": "@jupyter-widgets/controls",
            "_model_module_version": "1.5.0",
            "_model_name": "FloatProgressModel",
            "_view_count": null,
            "_view_module": "@jupyter-widgets/controls",
            "_view_module_version": "1.5.0",
            "_view_name": "ProgressView",
            "bar_style": "success",
            "description": "",
            "description_tooltip": null,
            "layout": "IPY_MODEL_c9554babf9854569a4e760bdd2f5b395",
            "max": 6,
            "min": 0,
            "orientation": "horizontal",
            "style": "IPY_MODEL_34b06343c9ef4263a8edf4075f3cd7b6",
            "value": 6
          }
        },
        "4cf07f7c1add454a9754408b3e03194c": {
          "model_module": "@jupyter-widgets/controls",
          "model_name": "HTMLModel",
          "model_module_version": "1.5.0",
          "state": {
            "_dom_classes": [],
            "_model_module": "@jupyter-widgets/controls",
            "_model_module_version": "1.5.0",
            "_model_name": "HTMLModel",
            "_view_count": null,
            "_view_module": "@jupyter-widgets/controls",
            "_view_module_version": "1.5.0",
            "_view_name": "HTMLView",
            "description": "",
            "description_tooltip": null,
            "layout": "IPY_MODEL_edc0b2876ca04d518bd3bf7caeea5a66",
            "placeholder": "​",
            "style": "IPY_MODEL_376ee80b2a8d4da6be8c37eca1d9a4ba",
            "value": " 6/6 [00:31&lt;00:00,  5.10s/it]"
          }
        },
        "c43c299a16f94b9d87304593f3badd56": {
          "model_module": "@jupyter-widgets/base",
          "model_name": "LayoutModel",
          "model_module_version": "1.2.0",
          "state": {
            "_model_module": "@jupyter-widgets/base",
            "_model_module_version": "1.2.0",
            "_model_name": "LayoutModel",
            "_view_count": null,
            "_view_module": "@jupyter-widgets/base",
            "_view_module_version": "1.2.0",
            "_view_name": "LayoutView",
            "align_content": null,
            "align_items": null,
            "align_self": null,
            "border": null,
            "bottom": null,
            "display": null,
            "flex": null,
            "flex_flow": null,
            "grid_area": null,
            "grid_auto_columns": null,
            "grid_auto_flow": null,
            "grid_auto_rows": null,
            "grid_column": null,
            "grid_gap": null,
            "grid_row": null,
            "grid_template_areas": null,
            "grid_template_columns": null,
            "grid_template_rows": null,
            "height": null,
            "justify_content": null,
            "justify_items": null,
            "left": null,
            "margin": null,
            "max_height": null,
            "max_width": null,
            "min_height": null,
            "min_width": null,
            "object_fit": null,
            "object_position": null,
            "order": null,
            "overflow": null,
            "overflow_x": null,
            "overflow_y": null,
            "padding": null,
            "right": null,
            "top": null,
            "visibility": null,
            "width": null
          }
        },
        "fe2357e101044d6784649b1f585ac733": {
          "model_module": "@jupyter-widgets/base",
          "model_name": "LayoutModel",
          "model_module_version": "1.2.0",
          "state": {
            "_model_module": "@jupyter-widgets/base",
            "_model_module_version": "1.2.0",
            "_model_name": "LayoutModel",
            "_view_count": null,
            "_view_module": "@jupyter-widgets/base",
            "_view_module_version": "1.2.0",
            "_view_name": "LayoutView",
            "align_content": null,
            "align_items": null,
            "align_self": null,
            "border": null,
            "bottom": null,
            "display": null,
            "flex": null,
            "flex_flow": null,
            "grid_area": null,
            "grid_auto_columns": null,
            "grid_auto_flow": null,
            "grid_auto_rows": null,
            "grid_column": null,
            "grid_gap": null,
            "grid_row": null,
            "grid_template_areas": null,
            "grid_template_columns": null,
            "grid_template_rows": null,
            "height": null,
            "justify_content": null,
            "justify_items": null,
            "left": null,
            "margin": null,
            "max_height": null,
            "max_width": null,
            "min_height": null,
            "min_width": null,
            "object_fit": null,
            "object_position": null,
            "order": null,
            "overflow": null,
            "overflow_x": null,
            "overflow_y": null,
            "padding": null,
            "right": null,
            "top": null,
            "visibility": null,
            "width": null
          }
        },
        "b6b42f1fc6df43aca3cf1d024d32fbe3": {
          "model_module": "@jupyter-widgets/controls",
          "model_name": "DescriptionStyleModel",
          "model_module_version": "1.5.0",
          "state": {
            "_model_module": "@jupyter-widgets/controls",
            "_model_module_version": "1.5.0",
            "_model_name": "DescriptionStyleModel",
            "_view_count": null,
            "_view_module": "@jupyter-widgets/base",
            "_view_module_version": "1.2.0",
            "_view_name": "StyleView",
            "description_width": ""
          }
        },
        "c9554babf9854569a4e760bdd2f5b395": {
          "model_module": "@jupyter-widgets/base",
          "model_name": "LayoutModel",
          "model_module_version": "1.2.0",
          "state": {
            "_model_module": "@jupyter-widgets/base",
            "_model_module_version": "1.2.0",
            "_model_name": "LayoutModel",
            "_view_count": null,
            "_view_module": "@jupyter-widgets/base",
            "_view_module_version": "1.2.0",
            "_view_name": "LayoutView",
            "align_content": null,
            "align_items": null,
            "align_self": null,
            "border": null,
            "bottom": null,
            "display": null,
            "flex": null,
            "flex_flow": null,
            "grid_area": null,
            "grid_auto_columns": null,
            "grid_auto_flow": null,
            "grid_auto_rows": null,
            "grid_column": null,
            "grid_gap": null,
            "grid_row": null,
            "grid_template_areas": null,
            "grid_template_columns": null,
            "grid_template_rows": null,
            "height": null,
            "justify_content": null,
            "justify_items": null,
            "left": null,
            "margin": null,
            "max_height": null,
            "max_width": null,
            "min_height": null,
            "min_width": null,
            "object_fit": null,
            "object_position": null,
            "order": null,
            "overflow": null,
            "overflow_x": null,
            "overflow_y": null,
            "padding": null,
            "right": null,
            "top": null,
            "visibility": null,
            "width": null
          }
        },
        "34b06343c9ef4263a8edf4075f3cd7b6": {
          "model_module": "@jupyter-widgets/controls",
          "model_name": "ProgressStyleModel",
          "model_module_version": "1.5.0",
          "state": {
            "_model_module": "@jupyter-widgets/controls",
            "_model_module_version": "1.5.0",
            "_model_name": "ProgressStyleModel",
            "_view_count": null,
            "_view_module": "@jupyter-widgets/base",
            "_view_module_version": "1.2.0",
            "_view_name": "StyleView",
            "bar_color": null,
            "description_width": ""
          }
        },
        "edc0b2876ca04d518bd3bf7caeea5a66": {
          "model_module": "@jupyter-widgets/base",
          "model_name": "LayoutModel",
          "model_module_version": "1.2.0",
          "state": {
            "_model_module": "@jupyter-widgets/base",
            "_model_module_version": "1.2.0",
            "_model_name": "LayoutModel",
            "_view_count": null,
            "_view_module": "@jupyter-widgets/base",
            "_view_module_version": "1.2.0",
            "_view_name": "LayoutView",
            "align_content": null,
            "align_items": null,
            "align_self": null,
            "border": null,
            "bottom": null,
            "display": null,
            "flex": null,
            "flex_flow": null,
            "grid_area": null,
            "grid_auto_columns": null,
            "grid_auto_flow": null,
            "grid_auto_rows": null,
            "grid_column": null,
            "grid_gap": null,
            "grid_row": null,
            "grid_template_areas": null,
            "grid_template_columns": null,
            "grid_template_rows": null,
            "height": null,
            "justify_content": null,
            "justify_items": null,
            "left": null,
            "margin": null,
            "max_height": null,
            "max_width": null,
            "min_height": null,
            "min_width": null,
            "object_fit": null,
            "object_position": null,
            "order": null,
            "overflow": null,
            "overflow_x": null,
            "overflow_y": null,
            "padding": null,
            "right": null,
            "top": null,
            "visibility": null,
            "width": null
          }
        },
        "376ee80b2a8d4da6be8c37eca1d9a4ba": {
          "model_module": "@jupyter-widgets/controls",
          "model_name": "DescriptionStyleModel",
          "model_module_version": "1.5.0",
          "state": {
            "_model_module": "@jupyter-widgets/controls",
            "_model_module_version": "1.5.0",
            "_model_name": "DescriptionStyleModel",
            "_view_count": null,
            "_view_module": "@jupyter-widgets/base",
            "_view_module_version": "1.2.0",
            "_view_name": "StyleView",
            "description_width": ""
          }
        },
        "db1cecdc805a4f7ca4b812cc0468a258": {
          "model_module": "@jupyter-widgets/controls",
          "model_name": "HBoxModel",
          "model_module_version": "1.5.0",
          "state": {
            "_dom_classes": [],
            "_model_module": "@jupyter-widgets/controls",
            "_model_module_version": "1.5.0",
            "_model_name": "HBoxModel",
            "_view_count": null,
            "_view_module": "@jupyter-widgets/controls",
            "_view_module_version": "1.5.0",
            "_view_name": "HBoxView",
            "box_style": "",
            "children": [
              "IPY_MODEL_2443c272c8e14c029db1c44d24e0d574",
              "IPY_MODEL_637a4fe5c3e5498ea923e4bd4adde5c5",
              "IPY_MODEL_7f342848c2d74d75bd7a76bde7ea87b4"
            ],
            "layout": "IPY_MODEL_0f30a021efa14dfcb798b2acbd92a092"
          }
        },
        "2443c272c8e14c029db1c44d24e0d574": {
          "model_module": "@jupyter-widgets/controls",
          "model_name": "HTMLModel",
          "model_module_version": "1.5.0",
          "state": {
            "_dom_classes": [],
            "_model_module": "@jupyter-widgets/controls",
            "_model_module_version": "1.5.0",
            "_model_name": "HTMLModel",
            "_view_count": null,
            "_view_module": "@jupyter-widgets/controls",
            "_view_module_version": "1.5.0",
            "_view_name": "HTMLView",
            "description": "",
            "description_tooltip": null,
            "layout": "IPY_MODEL_b27d002f24994dbfbe4099f52636e209",
            "placeholder": "​",
            "style": "IPY_MODEL_76716c2853224dff95abf5821de2a5d6",
            "value": "100%"
          }
        },
        "637a4fe5c3e5498ea923e4bd4adde5c5": {
          "model_module": "@jupyter-widgets/controls",
          "model_name": "FloatProgressModel",
          "model_module_version": "1.5.0",
          "state": {
            "_dom_classes": [],
            "_model_module": "@jupyter-widgets/controls",
            "_model_module_version": "1.5.0",
            "_model_name": "FloatProgressModel",
            "_view_count": null,
            "_view_module": "@jupyter-widgets/controls",
            "_view_module_version": "1.5.0",
            "_view_name": "ProgressView",
            "bar_style": "success",
            "description": "",
            "description_tooltip": null,
            "layout": "IPY_MODEL_9eb495eee1b8485abe8e23f2469353a5",
            "max": 6,
            "min": 0,
            "orientation": "horizontal",
            "style": "IPY_MODEL_bc239005ecc94bf58313e114d6b184da",
            "value": 6
          }
        },
        "7f342848c2d74d75bd7a76bde7ea87b4": {
          "model_module": "@jupyter-widgets/controls",
          "model_name": "HTMLModel",
          "model_module_version": "1.5.0",
          "state": {
            "_dom_classes": [],
            "_model_module": "@jupyter-widgets/controls",
            "_model_module_version": "1.5.0",
            "_model_name": "HTMLModel",
            "_view_count": null,
            "_view_module": "@jupyter-widgets/controls",
            "_view_module_version": "1.5.0",
            "_view_name": "HTMLView",
            "description": "",
            "description_tooltip": null,
            "layout": "IPY_MODEL_80ed64a08d7142169d31375890525d06",
            "placeholder": "​",
            "style": "IPY_MODEL_73552ab2c2ed4350b35e24e617bc2ae0",
            "value": " 6/6 [00:39&lt;00:00,  7.52s/it]"
          }
        },
        "0f30a021efa14dfcb798b2acbd92a092": {
          "model_module": "@jupyter-widgets/base",
          "model_name": "LayoutModel",
          "model_module_version": "1.2.0",
          "state": {
            "_model_module": "@jupyter-widgets/base",
            "_model_module_version": "1.2.0",
            "_model_name": "LayoutModel",
            "_view_count": null,
            "_view_module": "@jupyter-widgets/base",
            "_view_module_version": "1.2.0",
            "_view_name": "LayoutView",
            "align_content": null,
            "align_items": null,
            "align_self": null,
            "border": null,
            "bottom": null,
            "display": null,
            "flex": null,
            "flex_flow": null,
            "grid_area": null,
            "grid_auto_columns": null,
            "grid_auto_flow": null,
            "grid_auto_rows": null,
            "grid_column": null,
            "grid_gap": null,
            "grid_row": null,
            "grid_template_areas": null,
            "grid_template_columns": null,
            "grid_template_rows": null,
            "height": null,
            "justify_content": null,
            "justify_items": null,
            "left": null,
            "margin": null,
            "max_height": null,
            "max_width": null,
            "min_height": null,
            "min_width": null,
            "object_fit": null,
            "object_position": null,
            "order": null,
            "overflow": null,
            "overflow_x": null,
            "overflow_y": null,
            "padding": null,
            "right": null,
            "top": null,
            "visibility": null,
            "width": null
          }
        },
        "b27d002f24994dbfbe4099f52636e209": {
          "model_module": "@jupyter-widgets/base",
          "model_name": "LayoutModel",
          "model_module_version": "1.2.0",
          "state": {
            "_model_module": "@jupyter-widgets/base",
            "_model_module_version": "1.2.0",
            "_model_name": "LayoutModel",
            "_view_count": null,
            "_view_module": "@jupyter-widgets/base",
            "_view_module_version": "1.2.0",
            "_view_name": "LayoutView",
            "align_content": null,
            "align_items": null,
            "align_self": null,
            "border": null,
            "bottom": null,
            "display": null,
            "flex": null,
            "flex_flow": null,
            "grid_area": null,
            "grid_auto_columns": null,
            "grid_auto_flow": null,
            "grid_auto_rows": null,
            "grid_column": null,
            "grid_gap": null,
            "grid_row": null,
            "grid_template_areas": null,
            "grid_template_columns": null,
            "grid_template_rows": null,
            "height": null,
            "justify_content": null,
            "justify_items": null,
            "left": null,
            "margin": null,
            "max_height": null,
            "max_width": null,
            "min_height": null,
            "min_width": null,
            "object_fit": null,
            "object_position": null,
            "order": null,
            "overflow": null,
            "overflow_x": null,
            "overflow_y": null,
            "padding": null,
            "right": null,
            "top": null,
            "visibility": null,
            "width": null
          }
        },
        "76716c2853224dff95abf5821de2a5d6": {
          "model_module": "@jupyter-widgets/controls",
          "model_name": "DescriptionStyleModel",
          "model_module_version": "1.5.0",
          "state": {
            "_model_module": "@jupyter-widgets/controls",
            "_model_module_version": "1.5.0",
            "_model_name": "DescriptionStyleModel",
            "_view_count": null,
            "_view_module": "@jupyter-widgets/base",
            "_view_module_version": "1.2.0",
            "_view_name": "StyleView",
            "description_width": ""
          }
        },
        "9eb495eee1b8485abe8e23f2469353a5": {
          "model_module": "@jupyter-widgets/base",
          "model_name": "LayoutModel",
          "model_module_version": "1.2.0",
          "state": {
            "_model_module": "@jupyter-widgets/base",
            "_model_module_version": "1.2.0",
            "_model_name": "LayoutModel",
            "_view_count": null,
            "_view_module": "@jupyter-widgets/base",
            "_view_module_version": "1.2.0",
            "_view_name": "LayoutView",
            "align_content": null,
            "align_items": null,
            "align_self": null,
            "border": null,
            "bottom": null,
            "display": null,
            "flex": null,
            "flex_flow": null,
            "grid_area": null,
            "grid_auto_columns": null,
            "grid_auto_flow": null,
            "grid_auto_rows": null,
            "grid_column": null,
            "grid_gap": null,
            "grid_row": null,
            "grid_template_areas": null,
            "grid_template_columns": null,
            "grid_template_rows": null,
            "height": null,
            "justify_content": null,
            "justify_items": null,
            "left": null,
            "margin": null,
            "max_height": null,
            "max_width": null,
            "min_height": null,
            "min_width": null,
            "object_fit": null,
            "object_position": null,
            "order": null,
            "overflow": null,
            "overflow_x": null,
            "overflow_y": null,
            "padding": null,
            "right": null,
            "top": null,
            "visibility": null,
            "width": null
          }
        },
        "bc239005ecc94bf58313e114d6b184da": {
          "model_module": "@jupyter-widgets/controls",
          "model_name": "ProgressStyleModel",
          "model_module_version": "1.5.0",
          "state": {
            "_model_module": "@jupyter-widgets/controls",
            "_model_module_version": "1.5.0",
            "_model_name": "ProgressStyleModel",
            "_view_count": null,
            "_view_module": "@jupyter-widgets/base",
            "_view_module_version": "1.2.0",
            "_view_name": "StyleView",
            "bar_color": null,
            "description_width": ""
          }
        },
        "80ed64a08d7142169d31375890525d06": {
          "model_module": "@jupyter-widgets/base",
          "model_name": "LayoutModel",
          "model_module_version": "1.2.0",
          "state": {
            "_model_module": "@jupyter-widgets/base",
            "_model_module_version": "1.2.0",
            "_model_name": "LayoutModel",
            "_view_count": null,
            "_view_module": "@jupyter-widgets/base",
            "_view_module_version": "1.2.0",
            "_view_name": "LayoutView",
            "align_content": null,
            "align_items": null,
            "align_self": null,
            "border": null,
            "bottom": null,
            "display": null,
            "flex": null,
            "flex_flow": null,
            "grid_area": null,
            "grid_auto_columns": null,
            "grid_auto_flow": null,
            "grid_auto_rows": null,
            "grid_column": null,
            "grid_gap": null,
            "grid_row": null,
            "grid_template_areas": null,
            "grid_template_columns": null,
            "grid_template_rows": null,
            "height": null,
            "justify_content": null,
            "justify_items": null,
            "left": null,
            "margin": null,
            "max_height": null,
            "max_width": null,
            "min_height": null,
            "min_width": null,
            "object_fit": null,
            "object_position": null,
            "order": null,
            "overflow": null,
            "overflow_x": null,
            "overflow_y": null,
            "padding": null,
            "right": null,
            "top": null,
            "visibility": null,
            "width": null
          }
        },
        "73552ab2c2ed4350b35e24e617bc2ae0": {
          "model_module": "@jupyter-widgets/controls",
          "model_name": "DescriptionStyleModel",
          "model_module_version": "1.5.0",
          "state": {
            "_model_module": "@jupyter-widgets/controls",
            "_model_module_version": "1.5.0",
            "_model_name": "DescriptionStyleModel",
            "_view_count": null,
            "_view_module": "@jupyter-widgets/base",
            "_view_module_version": "1.2.0",
            "_view_name": "StyleView",
            "description_width": ""
          }
        },
        "e371646c8f814cfe9a4748949962b496": {
          "model_module": "@jupyter-widgets/controls",
          "model_name": "HBoxModel",
          "model_module_version": "1.5.0",
          "state": {
            "_dom_classes": [],
            "_model_module": "@jupyter-widgets/controls",
            "_model_module_version": "1.5.0",
            "_model_name": "HBoxModel",
            "_view_count": null,
            "_view_module": "@jupyter-widgets/controls",
            "_view_module_version": "1.5.0",
            "_view_name": "HBoxView",
            "box_style": "",
            "children": [
              "IPY_MODEL_ba571874f3f44770994f0ac870b20c1e",
              "IPY_MODEL_5a58bb3b2f93463db8ba4e1d355f3007",
              "IPY_MODEL_a1c65aedeec24be780b5992f45d0340e"
            ],
            "layout": "IPY_MODEL_cca9b184d2ca418b855551bf1471ff9c"
          }
        },
        "ba571874f3f44770994f0ac870b20c1e": {
          "model_module": "@jupyter-widgets/controls",
          "model_name": "HTMLModel",
          "model_module_version": "1.5.0",
          "state": {
            "_dom_classes": [],
            "_model_module": "@jupyter-widgets/controls",
            "_model_module_version": "1.5.0",
            "_model_name": "HTMLModel",
            "_view_count": null,
            "_view_module": "@jupyter-widgets/controls",
            "_view_module_version": "1.5.0",
            "_view_name": "HTMLView",
            "description": "",
            "description_tooltip": null,
            "layout": "IPY_MODEL_4beaaede8a224570a955892afd56d3e2",
            "placeholder": "​",
            "style": "IPY_MODEL_39b59e2f5e3e42d8a8490758a65b5cc5",
            "value": "100%"
          }
        },
        "5a58bb3b2f93463db8ba4e1d355f3007": {
          "model_module": "@jupyter-widgets/controls",
          "model_name": "FloatProgressModel",
          "model_module_version": "1.5.0",
          "state": {
            "_dom_classes": [],
            "_model_module": "@jupyter-widgets/controls",
            "_model_module_version": "1.5.0",
            "_model_name": "FloatProgressModel",
            "_view_count": null,
            "_view_module": "@jupyter-widgets/controls",
            "_view_module_version": "1.5.0",
            "_view_name": "ProgressView",
            "bar_style": "success",
            "description": "",
            "description_tooltip": null,
            "layout": "IPY_MODEL_2329d0ad7f444a49b30d1dc16d10dbc5",
            "max": 6,
            "min": 0,
            "orientation": "horizontal",
            "style": "IPY_MODEL_cd255aade08f4c39960b55fd2c50ea7a",
            "value": 6
          }
        },
        "a1c65aedeec24be780b5992f45d0340e": {
          "model_module": "@jupyter-widgets/controls",
          "model_name": "HTMLModel",
          "model_module_version": "1.5.0",
          "state": {
            "_dom_classes": [],
            "_model_module": "@jupyter-widgets/controls",
            "_model_module_version": "1.5.0",
            "_model_name": "HTMLModel",
            "_view_count": null,
            "_view_module": "@jupyter-widgets/controls",
            "_view_module_version": "1.5.0",
            "_view_name": "HTMLView",
            "description": "",
            "description_tooltip": null,
            "layout": "IPY_MODEL_2e6c8f073f0845d5acf8f2a54b9a81b0",
            "placeholder": "​",
            "style": "IPY_MODEL_0906db68038a436f852603afcc8a4b0b",
            "value": " 6/6 [00:30&lt;00:00,  5.06s/it]"
          }
        },
        "cca9b184d2ca418b855551bf1471ff9c": {
          "model_module": "@jupyter-widgets/base",
          "model_name": "LayoutModel",
          "model_module_version": "1.2.0",
          "state": {
            "_model_module": "@jupyter-widgets/base",
            "_model_module_version": "1.2.0",
            "_model_name": "LayoutModel",
            "_view_count": null,
            "_view_module": "@jupyter-widgets/base",
            "_view_module_version": "1.2.0",
            "_view_name": "LayoutView",
            "align_content": null,
            "align_items": null,
            "align_self": null,
            "border": null,
            "bottom": null,
            "display": null,
            "flex": null,
            "flex_flow": null,
            "grid_area": null,
            "grid_auto_columns": null,
            "grid_auto_flow": null,
            "grid_auto_rows": null,
            "grid_column": null,
            "grid_gap": null,
            "grid_row": null,
            "grid_template_areas": null,
            "grid_template_columns": null,
            "grid_template_rows": null,
            "height": null,
            "justify_content": null,
            "justify_items": null,
            "left": null,
            "margin": null,
            "max_height": null,
            "max_width": null,
            "min_height": null,
            "min_width": null,
            "object_fit": null,
            "object_position": null,
            "order": null,
            "overflow": null,
            "overflow_x": null,
            "overflow_y": null,
            "padding": null,
            "right": null,
            "top": null,
            "visibility": null,
            "width": null
          }
        },
        "4beaaede8a224570a955892afd56d3e2": {
          "model_module": "@jupyter-widgets/base",
          "model_name": "LayoutModel",
          "model_module_version": "1.2.0",
          "state": {
            "_model_module": "@jupyter-widgets/base",
            "_model_module_version": "1.2.0",
            "_model_name": "LayoutModel",
            "_view_count": null,
            "_view_module": "@jupyter-widgets/base",
            "_view_module_version": "1.2.0",
            "_view_name": "LayoutView",
            "align_content": null,
            "align_items": null,
            "align_self": null,
            "border": null,
            "bottom": null,
            "display": null,
            "flex": null,
            "flex_flow": null,
            "grid_area": null,
            "grid_auto_columns": null,
            "grid_auto_flow": null,
            "grid_auto_rows": null,
            "grid_column": null,
            "grid_gap": null,
            "grid_row": null,
            "grid_template_areas": null,
            "grid_template_columns": null,
            "grid_template_rows": null,
            "height": null,
            "justify_content": null,
            "justify_items": null,
            "left": null,
            "margin": null,
            "max_height": null,
            "max_width": null,
            "min_height": null,
            "min_width": null,
            "object_fit": null,
            "object_position": null,
            "order": null,
            "overflow": null,
            "overflow_x": null,
            "overflow_y": null,
            "padding": null,
            "right": null,
            "top": null,
            "visibility": null,
            "width": null
          }
        },
        "39b59e2f5e3e42d8a8490758a65b5cc5": {
          "model_module": "@jupyter-widgets/controls",
          "model_name": "DescriptionStyleModel",
          "model_module_version": "1.5.0",
          "state": {
            "_model_module": "@jupyter-widgets/controls",
            "_model_module_version": "1.5.0",
            "_model_name": "DescriptionStyleModel",
            "_view_count": null,
            "_view_module": "@jupyter-widgets/base",
            "_view_module_version": "1.2.0",
            "_view_name": "StyleView",
            "description_width": ""
          }
        },
        "2329d0ad7f444a49b30d1dc16d10dbc5": {
          "model_module": "@jupyter-widgets/base",
          "model_name": "LayoutModel",
          "model_module_version": "1.2.0",
          "state": {
            "_model_module": "@jupyter-widgets/base",
            "_model_module_version": "1.2.0",
            "_model_name": "LayoutModel",
            "_view_count": null,
            "_view_module": "@jupyter-widgets/base",
            "_view_module_version": "1.2.0",
            "_view_name": "LayoutView",
            "align_content": null,
            "align_items": null,
            "align_self": null,
            "border": null,
            "bottom": null,
            "display": null,
            "flex": null,
            "flex_flow": null,
            "grid_area": null,
            "grid_auto_columns": null,
            "grid_auto_flow": null,
            "grid_auto_rows": null,
            "grid_column": null,
            "grid_gap": null,
            "grid_row": null,
            "grid_template_areas": null,
            "grid_template_columns": null,
            "grid_template_rows": null,
            "height": null,
            "justify_content": null,
            "justify_items": null,
            "left": null,
            "margin": null,
            "max_height": null,
            "max_width": null,
            "min_height": null,
            "min_width": null,
            "object_fit": null,
            "object_position": null,
            "order": null,
            "overflow": null,
            "overflow_x": null,
            "overflow_y": null,
            "padding": null,
            "right": null,
            "top": null,
            "visibility": null,
            "width": null
          }
        },
        "cd255aade08f4c39960b55fd2c50ea7a": {
          "model_module": "@jupyter-widgets/controls",
          "model_name": "ProgressStyleModel",
          "model_module_version": "1.5.0",
          "state": {
            "_model_module": "@jupyter-widgets/controls",
            "_model_module_version": "1.5.0",
            "_model_name": "ProgressStyleModel",
            "_view_count": null,
            "_view_module": "@jupyter-widgets/base",
            "_view_module_version": "1.2.0",
            "_view_name": "StyleView",
            "bar_color": null,
            "description_width": ""
          }
        },
        "2e6c8f073f0845d5acf8f2a54b9a81b0": {
          "model_module": "@jupyter-widgets/base",
          "model_name": "LayoutModel",
          "model_module_version": "1.2.0",
          "state": {
            "_model_module": "@jupyter-widgets/base",
            "_model_module_version": "1.2.0",
            "_model_name": "LayoutModel",
            "_view_count": null,
            "_view_module": "@jupyter-widgets/base",
            "_view_module_version": "1.2.0",
            "_view_name": "LayoutView",
            "align_content": null,
            "align_items": null,
            "align_self": null,
            "border": null,
            "bottom": null,
            "display": null,
            "flex": null,
            "flex_flow": null,
            "grid_area": null,
            "grid_auto_columns": null,
            "grid_auto_flow": null,
            "grid_auto_rows": null,
            "grid_column": null,
            "grid_gap": null,
            "grid_row": null,
            "grid_template_areas": null,
            "grid_template_columns": null,
            "grid_template_rows": null,
            "height": null,
            "justify_content": null,
            "justify_items": null,
            "left": null,
            "margin": null,
            "max_height": null,
            "max_width": null,
            "min_height": null,
            "min_width": null,
            "object_fit": null,
            "object_position": null,
            "order": null,
            "overflow": null,
            "overflow_x": null,
            "overflow_y": null,
            "padding": null,
            "right": null,
            "top": null,
            "visibility": null,
            "width": null
          }
        },
        "0906db68038a436f852603afcc8a4b0b": {
          "model_module": "@jupyter-widgets/controls",
          "model_name": "DescriptionStyleModel",
          "model_module_version": "1.5.0",
          "state": {
            "_model_module": "@jupyter-widgets/controls",
            "_model_module_version": "1.5.0",
            "_model_name": "DescriptionStyleModel",
            "_view_count": null,
            "_view_module": "@jupyter-widgets/base",
            "_view_module_version": "1.2.0",
            "_view_name": "StyleView",
            "description_width": ""
          }
        },
        "325a3bbefa384815b990539b2feaa6b9": {
          "model_module": "@jupyter-widgets/controls",
          "model_name": "HBoxModel",
          "model_module_version": "1.5.0",
          "state": {
            "_dom_classes": [],
            "_model_module": "@jupyter-widgets/controls",
            "_model_module_version": "1.5.0",
            "_model_name": "HBoxModel",
            "_view_count": null,
            "_view_module": "@jupyter-widgets/controls",
            "_view_module_version": "1.5.0",
            "_view_name": "HBoxView",
            "box_style": "",
            "children": [
              "IPY_MODEL_3f8ed6c3e9244c2abdf82aad70b6d8e4",
              "IPY_MODEL_3b42e2ab2f6744abbba1caa4f31a27c2",
              "IPY_MODEL_05c6d5dc23d04009b30807de960d3824"
            ],
            "layout": "IPY_MODEL_150d085a0faa4375b265efdec3bde080"
          }
        },
        "3f8ed6c3e9244c2abdf82aad70b6d8e4": {
          "model_module": "@jupyter-widgets/controls",
          "model_name": "HTMLModel",
          "model_module_version": "1.5.0",
          "state": {
            "_dom_classes": [],
            "_model_module": "@jupyter-widgets/controls",
            "_model_module_version": "1.5.0",
            "_model_name": "HTMLModel",
            "_view_count": null,
            "_view_module": "@jupyter-widgets/controls",
            "_view_module_version": "1.5.0",
            "_view_name": "HTMLView",
            "description": "",
            "description_tooltip": null,
            "layout": "IPY_MODEL_24e3f72fc5064c11a021352cf67d9ecd",
            "placeholder": "​",
            "style": "IPY_MODEL_8af974df124e47b79ea51883c03750c8",
            "value": "100%"
          }
        },
        "3b42e2ab2f6744abbba1caa4f31a27c2": {
          "model_module": "@jupyter-widgets/controls",
          "model_name": "FloatProgressModel",
          "model_module_version": "1.5.0",
          "state": {
            "_dom_classes": [],
            "_model_module": "@jupyter-widgets/controls",
            "_model_module_version": "1.5.0",
            "_model_name": "FloatProgressModel",
            "_view_count": null,
            "_view_module": "@jupyter-widgets/controls",
            "_view_module_version": "1.5.0",
            "_view_name": "ProgressView",
            "bar_style": "success",
            "description": "",
            "description_tooltip": null,
            "layout": "IPY_MODEL_68ce2acefab846f18f2217befc385bf2",
            "max": 6,
            "min": 0,
            "orientation": "horizontal",
            "style": "IPY_MODEL_547227f46613414eae0cfef34b4cd2d2",
            "value": 6
          }
        },
        "05c6d5dc23d04009b30807de960d3824": {
          "model_module": "@jupyter-widgets/controls",
          "model_name": "HTMLModel",
          "model_module_version": "1.5.0",
          "state": {
            "_dom_classes": [],
            "_model_module": "@jupyter-widgets/controls",
            "_model_module_version": "1.5.0",
            "_model_name": "HTMLModel",
            "_view_count": null,
            "_view_module": "@jupyter-widgets/controls",
            "_view_module_version": "1.5.0",
            "_view_name": "HTMLView",
            "description": "",
            "description_tooltip": null,
            "layout": "IPY_MODEL_6a76e891f3374e56b9b4104f90fcf6af",
            "placeholder": "​",
            "style": "IPY_MODEL_f1f1f48e8d434632a20b5973eecf7488",
            "value": " 6/6 [00:43&lt;00:00,  7.33s/it]"
          }
        },
        "150d085a0faa4375b265efdec3bde080": {
          "model_module": "@jupyter-widgets/base",
          "model_name": "LayoutModel",
          "model_module_version": "1.2.0",
          "state": {
            "_model_module": "@jupyter-widgets/base",
            "_model_module_version": "1.2.0",
            "_model_name": "LayoutModel",
            "_view_count": null,
            "_view_module": "@jupyter-widgets/base",
            "_view_module_version": "1.2.0",
            "_view_name": "LayoutView",
            "align_content": null,
            "align_items": null,
            "align_self": null,
            "border": null,
            "bottom": null,
            "display": null,
            "flex": null,
            "flex_flow": null,
            "grid_area": null,
            "grid_auto_columns": null,
            "grid_auto_flow": null,
            "grid_auto_rows": null,
            "grid_column": null,
            "grid_gap": null,
            "grid_row": null,
            "grid_template_areas": null,
            "grid_template_columns": null,
            "grid_template_rows": null,
            "height": null,
            "justify_content": null,
            "justify_items": null,
            "left": null,
            "margin": null,
            "max_height": null,
            "max_width": null,
            "min_height": null,
            "min_width": null,
            "object_fit": null,
            "object_position": null,
            "order": null,
            "overflow": null,
            "overflow_x": null,
            "overflow_y": null,
            "padding": null,
            "right": null,
            "top": null,
            "visibility": null,
            "width": null
          }
        },
        "24e3f72fc5064c11a021352cf67d9ecd": {
          "model_module": "@jupyter-widgets/base",
          "model_name": "LayoutModel",
          "model_module_version": "1.2.0",
          "state": {
            "_model_module": "@jupyter-widgets/base",
            "_model_module_version": "1.2.0",
            "_model_name": "LayoutModel",
            "_view_count": null,
            "_view_module": "@jupyter-widgets/base",
            "_view_module_version": "1.2.0",
            "_view_name": "LayoutView",
            "align_content": null,
            "align_items": null,
            "align_self": null,
            "border": null,
            "bottom": null,
            "display": null,
            "flex": null,
            "flex_flow": null,
            "grid_area": null,
            "grid_auto_columns": null,
            "grid_auto_flow": null,
            "grid_auto_rows": null,
            "grid_column": null,
            "grid_gap": null,
            "grid_row": null,
            "grid_template_areas": null,
            "grid_template_columns": null,
            "grid_template_rows": null,
            "height": null,
            "justify_content": null,
            "justify_items": null,
            "left": null,
            "margin": null,
            "max_height": null,
            "max_width": null,
            "min_height": null,
            "min_width": null,
            "object_fit": null,
            "object_position": null,
            "order": null,
            "overflow": null,
            "overflow_x": null,
            "overflow_y": null,
            "padding": null,
            "right": null,
            "top": null,
            "visibility": null,
            "width": null
          }
        },
        "8af974df124e47b79ea51883c03750c8": {
          "model_module": "@jupyter-widgets/controls",
          "model_name": "DescriptionStyleModel",
          "model_module_version": "1.5.0",
          "state": {
            "_model_module": "@jupyter-widgets/controls",
            "_model_module_version": "1.5.0",
            "_model_name": "DescriptionStyleModel",
            "_view_count": null,
            "_view_module": "@jupyter-widgets/base",
            "_view_module_version": "1.2.0",
            "_view_name": "StyleView",
            "description_width": ""
          }
        },
        "68ce2acefab846f18f2217befc385bf2": {
          "model_module": "@jupyter-widgets/base",
          "model_name": "LayoutModel",
          "model_module_version": "1.2.0",
          "state": {
            "_model_module": "@jupyter-widgets/base",
            "_model_module_version": "1.2.0",
            "_model_name": "LayoutModel",
            "_view_count": null,
            "_view_module": "@jupyter-widgets/base",
            "_view_module_version": "1.2.0",
            "_view_name": "LayoutView",
            "align_content": null,
            "align_items": null,
            "align_self": null,
            "border": null,
            "bottom": null,
            "display": null,
            "flex": null,
            "flex_flow": null,
            "grid_area": null,
            "grid_auto_columns": null,
            "grid_auto_flow": null,
            "grid_auto_rows": null,
            "grid_column": null,
            "grid_gap": null,
            "grid_row": null,
            "grid_template_areas": null,
            "grid_template_columns": null,
            "grid_template_rows": null,
            "height": null,
            "justify_content": null,
            "justify_items": null,
            "left": null,
            "margin": null,
            "max_height": null,
            "max_width": null,
            "min_height": null,
            "min_width": null,
            "object_fit": null,
            "object_position": null,
            "order": null,
            "overflow": null,
            "overflow_x": null,
            "overflow_y": null,
            "padding": null,
            "right": null,
            "top": null,
            "visibility": null,
            "width": null
          }
        },
        "547227f46613414eae0cfef34b4cd2d2": {
          "model_module": "@jupyter-widgets/controls",
          "model_name": "ProgressStyleModel",
          "model_module_version": "1.5.0",
          "state": {
            "_model_module": "@jupyter-widgets/controls",
            "_model_module_version": "1.5.0",
            "_model_name": "ProgressStyleModel",
            "_view_count": null,
            "_view_module": "@jupyter-widgets/base",
            "_view_module_version": "1.2.0",
            "_view_name": "StyleView",
            "bar_color": null,
            "description_width": ""
          }
        },
        "6a76e891f3374e56b9b4104f90fcf6af": {
          "model_module": "@jupyter-widgets/base",
          "model_name": "LayoutModel",
          "model_module_version": "1.2.0",
          "state": {
            "_model_module": "@jupyter-widgets/base",
            "_model_module_version": "1.2.0",
            "_model_name": "LayoutModel",
            "_view_count": null,
            "_view_module": "@jupyter-widgets/base",
            "_view_module_version": "1.2.0",
            "_view_name": "LayoutView",
            "align_content": null,
            "align_items": null,
            "align_self": null,
            "border": null,
            "bottom": null,
            "display": null,
            "flex": null,
            "flex_flow": null,
            "grid_area": null,
            "grid_auto_columns": null,
            "grid_auto_flow": null,
            "grid_auto_rows": null,
            "grid_column": null,
            "grid_gap": null,
            "grid_row": null,
            "grid_template_areas": null,
            "grid_template_columns": null,
            "grid_template_rows": null,
            "height": null,
            "justify_content": null,
            "justify_items": null,
            "left": null,
            "margin": null,
            "max_height": null,
            "max_width": null,
            "min_height": null,
            "min_width": null,
            "object_fit": null,
            "object_position": null,
            "order": null,
            "overflow": null,
            "overflow_x": null,
            "overflow_y": null,
            "padding": null,
            "right": null,
            "top": null,
            "visibility": null,
            "width": null
          }
        },
        "f1f1f48e8d434632a20b5973eecf7488": {
          "model_module": "@jupyter-widgets/controls",
          "model_name": "DescriptionStyleModel",
          "model_module_version": "1.5.0",
          "state": {
            "_model_module": "@jupyter-widgets/controls",
            "_model_module_version": "1.5.0",
            "_model_name": "DescriptionStyleModel",
            "_view_count": null,
            "_view_module": "@jupyter-widgets/base",
            "_view_module_version": "1.2.0",
            "_view_name": "StyleView",
            "description_width": ""
          }
        },
        "1ffd89154d61428886382deb2b1b2cc4": {
          "model_module": "@jupyter-widgets/controls",
          "model_name": "HBoxModel",
          "model_module_version": "1.5.0",
          "state": {
            "_dom_classes": [],
            "_model_module": "@jupyter-widgets/controls",
            "_model_module_version": "1.5.0",
            "_model_name": "HBoxModel",
            "_view_count": null,
            "_view_module": "@jupyter-widgets/controls",
            "_view_module_version": "1.5.0",
            "_view_name": "HBoxView",
            "box_style": "",
            "children": [
              "IPY_MODEL_56fda1e20b214cc180c9b41a5a4d0304",
              "IPY_MODEL_fd184bb5e8e746e7a48a03dc001ddfad",
              "IPY_MODEL_37341bf732a74856b0ccb224b0c7f7f2"
            ],
            "layout": "IPY_MODEL_14f8632d493543efb7be1e42db2ec24e"
          }
        },
        "56fda1e20b214cc180c9b41a5a4d0304": {
          "model_module": "@jupyter-widgets/controls",
          "model_name": "HTMLModel",
          "model_module_version": "1.5.0",
          "state": {
            "_dom_classes": [],
            "_model_module": "@jupyter-widgets/controls",
            "_model_module_version": "1.5.0",
            "_model_name": "HTMLModel",
            "_view_count": null,
            "_view_module": "@jupyter-widgets/controls",
            "_view_module_version": "1.5.0",
            "_view_name": "HTMLView",
            "description": "",
            "description_tooltip": null,
            "layout": "IPY_MODEL_96a9689b404a45288e4bf87ef2b94cd0",
            "placeholder": "​",
            "style": "IPY_MODEL_98f1339e0ea742088eec12bf34e950c7",
            "value": "100%"
          }
        },
        "fd184bb5e8e746e7a48a03dc001ddfad": {
          "model_module": "@jupyter-widgets/controls",
          "model_name": "FloatProgressModel",
          "model_module_version": "1.5.0",
          "state": {
            "_dom_classes": [],
            "_model_module": "@jupyter-widgets/controls",
            "_model_module_version": "1.5.0",
            "_model_name": "FloatProgressModel",
            "_view_count": null,
            "_view_module": "@jupyter-widgets/controls",
            "_view_module_version": "1.5.0",
            "_view_name": "ProgressView",
            "bar_style": "success",
            "description": "",
            "description_tooltip": null,
            "layout": "IPY_MODEL_9fe87473676043e0a7b5c5b604bf18d6",
            "max": 15,
            "min": 0,
            "orientation": "horizontal",
            "style": "IPY_MODEL_1f57223a8ad14d138ed107c22937ba25",
            "value": 15
          }
        },
        "37341bf732a74856b0ccb224b0c7f7f2": {
          "model_module": "@jupyter-widgets/controls",
          "model_name": "HTMLModel",
          "model_module_version": "1.5.0",
          "state": {
            "_dom_classes": [],
            "_model_module": "@jupyter-widgets/controls",
            "_model_module_version": "1.5.0",
            "_model_name": "HTMLModel",
            "_view_count": null,
            "_view_module": "@jupyter-widgets/controls",
            "_view_module_version": "1.5.0",
            "_view_name": "HTMLView",
            "description": "",
            "description_tooltip": null,
            "layout": "IPY_MODEL_34dfa6bbfec74a9cb8c52f6236e87d09",
            "placeholder": "​",
            "style": "IPY_MODEL_bce6927bba4b4e8a84436e716bd44027",
            "value": " 15/15 [06:58&lt;00:00, 27.31s/it]"
          }
        },
        "14f8632d493543efb7be1e42db2ec24e": {
          "model_module": "@jupyter-widgets/base",
          "model_name": "LayoutModel",
          "model_module_version": "1.2.0",
          "state": {
            "_model_module": "@jupyter-widgets/base",
            "_model_module_version": "1.2.0",
            "_model_name": "LayoutModel",
            "_view_count": null,
            "_view_module": "@jupyter-widgets/base",
            "_view_module_version": "1.2.0",
            "_view_name": "LayoutView",
            "align_content": null,
            "align_items": null,
            "align_self": null,
            "border": null,
            "bottom": null,
            "display": null,
            "flex": null,
            "flex_flow": null,
            "grid_area": null,
            "grid_auto_columns": null,
            "grid_auto_flow": null,
            "grid_auto_rows": null,
            "grid_column": null,
            "grid_gap": null,
            "grid_row": null,
            "grid_template_areas": null,
            "grid_template_columns": null,
            "grid_template_rows": null,
            "height": null,
            "justify_content": null,
            "justify_items": null,
            "left": null,
            "margin": null,
            "max_height": null,
            "max_width": null,
            "min_height": null,
            "min_width": null,
            "object_fit": null,
            "object_position": null,
            "order": null,
            "overflow": null,
            "overflow_x": null,
            "overflow_y": null,
            "padding": null,
            "right": null,
            "top": null,
            "visibility": null,
            "width": null
          }
        },
        "96a9689b404a45288e4bf87ef2b94cd0": {
          "model_module": "@jupyter-widgets/base",
          "model_name": "LayoutModel",
          "model_module_version": "1.2.0",
          "state": {
            "_model_module": "@jupyter-widgets/base",
            "_model_module_version": "1.2.0",
            "_model_name": "LayoutModel",
            "_view_count": null,
            "_view_module": "@jupyter-widgets/base",
            "_view_module_version": "1.2.0",
            "_view_name": "LayoutView",
            "align_content": null,
            "align_items": null,
            "align_self": null,
            "border": null,
            "bottom": null,
            "display": null,
            "flex": null,
            "flex_flow": null,
            "grid_area": null,
            "grid_auto_columns": null,
            "grid_auto_flow": null,
            "grid_auto_rows": null,
            "grid_column": null,
            "grid_gap": null,
            "grid_row": null,
            "grid_template_areas": null,
            "grid_template_columns": null,
            "grid_template_rows": null,
            "height": null,
            "justify_content": null,
            "justify_items": null,
            "left": null,
            "margin": null,
            "max_height": null,
            "max_width": null,
            "min_height": null,
            "min_width": null,
            "object_fit": null,
            "object_position": null,
            "order": null,
            "overflow": null,
            "overflow_x": null,
            "overflow_y": null,
            "padding": null,
            "right": null,
            "top": null,
            "visibility": null,
            "width": null
          }
        },
        "98f1339e0ea742088eec12bf34e950c7": {
          "model_module": "@jupyter-widgets/controls",
          "model_name": "DescriptionStyleModel",
          "model_module_version": "1.5.0",
          "state": {
            "_model_module": "@jupyter-widgets/controls",
            "_model_module_version": "1.5.0",
            "_model_name": "DescriptionStyleModel",
            "_view_count": null,
            "_view_module": "@jupyter-widgets/base",
            "_view_module_version": "1.2.0",
            "_view_name": "StyleView",
            "description_width": ""
          }
        },
        "9fe87473676043e0a7b5c5b604bf18d6": {
          "model_module": "@jupyter-widgets/base",
          "model_name": "LayoutModel",
          "model_module_version": "1.2.0",
          "state": {
            "_model_module": "@jupyter-widgets/base",
            "_model_module_version": "1.2.0",
            "_model_name": "LayoutModel",
            "_view_count": null,
            "_view_module": "@jupyter-widgets/base",
            "_view_module_version": "1.2.0",
            "_view_name": "LayoutView",
            "align_content": null,
            "align_items": null,
            "align_self": null,
            "border": null,
            "bottom": null,
            "display": null,
            "flex": null,
            "flex_flow": null,
            "grid_area": null,
            "grid_auto_columns": null,
            "grid_auto_flow": null,
            "grid_auto_rows": null,
            "grid_column": null,
            "grid_gap": null,
            "grid_row": null,
            "grid_template_areas": null,
            "grid_template_columns": null,
            "grid_template_rows": null,
            "height": null,
            "justify_content": null,
            "justify_items": null,
            "left": null,
            "margin": null,
            "max_height": null,
            "max_width": null,
            "min_height": null,
            "min_width": null,
            "object_fit": null,
            "object_position": null,
            "order": null,
            "overflow": null,
            "overflow_x": null,
            "overflow_y": null,
            "padding": null,
            "right": null,
            "top": null,
            "visibility": null,
            "width": null
          }
        },
        "1f57223a8ad14d138ed107c22937ba25": {
          "model_module": "@jupyter-widgets/controls",
          "model_name": "ProgressStyleModel",
          "model_module_version": "1.5.0",
          "state": {
            "_model_module": "@jupyter-widgets/controls",
            "_model_module_version": "1.5.0",
            "_model_name": "ProgressStyleModel",
            "_view_count": null,
            "_view_module": "@jupyter-widgets/base",
            "_view_module_version": "1.2.0",
            "_view_name": "StyleView",
            "bar_color": null,
            "description_width": ""
          }
        },
        "34dfa6bbfec74a9cb8c52f6236e87d09": {
          "model_module": "@jupyter-widgets/base",
          "model_name": "LayoutModel",
          "model_module_version": "1.2.0",
          "state": {
            "_model_module": "@jupyter-widgets/base",
            "_model_module_version": "1.2.0",
            "_model_name": "LayoutModel",
            "_view_count": null,
            "_view_module": "@jupyter-widgets/base",
            "_view_module_version": "1.2.0",
            "_view_name": "LayoutView",
            "align_content": null,
            "align_items": null,
            "align_self": null,
            "border": null,
            "bottom": null,
            "display": null,
            "flex": null,
            "flex_flow": null,
            "grid_area": null,
            "grid_auto_columns": null,
            "grid_auto_flow": null,
            "grid_auto_rows": null,
            "grid_column": null,
            "grid_gap": null,
            "grid_row": null,
            "grid_template_areas": null,
            "grid_template_columns": null,
            "grid_template_rows": null,
            "height": null,
            "justify_content": null,
            "justify_items": null,
            "left": null,
            "margin": null,
            "max_height": null,
            "max_width": null,
            "min_height": null,
            "min_width": null,
            "object_fit": null,
            "object_position": null,
            "order": null,
            "overflow": null,
            "overflow_x": null,
            "overflow_y": null,
            "padding": null,
            "right": null,
            "top": null,
            "visibility": null,
            "width": null
          }
        },
        "bce6927bba4b4e8a84436e716bd44027": {
          "model_module": "@jupyter-widgets/controls",
          "model_name": "DescriptionStyleModel",
          "model_module_version": "1.5.0",
          "state": {
            "_model_module": "@jupyter-widgets/controls",
            "_model_module_version": "1.5.0",
            "_model_name": "DescriptionStyleModel",
            "_view_count": null,
            "_view_module": "@jupyter-widgets/base",
            "_view_module_version": "1.2.0",
            "_view_name": "StyleView",
            "description_width": ""
          }
        }
      }
    }
  },
  "nbformat": 4,
  "nbformat_minor": 0
}